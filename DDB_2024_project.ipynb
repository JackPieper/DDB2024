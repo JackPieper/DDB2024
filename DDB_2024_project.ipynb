{
 "cells": [
  {
   "cell_type": "code",
   "execution_count": 1,
   "metadata": {},
   "outputs": [],
   "source": [
    "import pandas as pd\n",
    "import numpy as np\n",
    "from scipy import stats\n",
    "from cleaning import *\n",
    "from sklearn.model_selection import train_test_split\n",
    "from sklearn.linear_model import LinearRegression\n",
    "from sklearn.metrics import mean_squared_error, r2_score\n"
   ]
  },
  {
   "cell_type": "code",
   "execution_count": 2,
   "metadata": {},
   "outputs": [
    {
     "name": "stdout",
     "output_type": "stream",
     "text": [
      "stm_vl_post has been removed (too many missing values)\n",
      "stm_equipm_nr_mld has been removed (too many missing values)\n",
      "stm_equipm_soort_mld has been removed (too many missing values)\n",
      "stm_equipm_omschr_mld has been removed (too many missing values)\n",
      "stm_equipm_nr_gst has been removed (too many missing values)\n",
      "stm_equipm_soort_gst has been removed (too many missing values)\n",
      "stm_equipm_omschr_gst has been removed (too many missing values)\n",
      "stm_oorz_tkst has been removed (too many missing values)\n",
      "stm_tao_indicator_vorige has been removed (too many missing values)\n",
      "stm_tao_soort_mutatie has been removed (too many missing values)\n",
      "stm_contractgeb_mld has been removed (too many missing values)\n",
      "stm_techn_mld has been removed (too many missing values)\n",
      "stm_aanntpl_dd has been removed (too many missing values)\n",
      "stm_progfh_in_datum has been removed (too many missing values)\n",
      "stm_progfh_in_invoer_dat has been removed (too many missing values)\n",
      "stm_progfh_gw_lwd_datum has been removed (too many missing values)\n",
      "stm_progfh_gw_lwd_tijd has been removed (too many missing values)\n",
      "stm_oorz_tekst_kort has been removed (too many missing values)\n",
      "stm_pplg_van has been removed (too many missing values)\n",
      "stm_pplg_naar has been removed (too many missing values)\n",
      "stm_dstrglp_van has been removed (too many missing values)\n",
      "stm_dstrglp_naar has been removed (too many missing values)\n",
      "Data cleaning complete.\n",
      "Columns filled with averages:  {'Unnamed: 0': 480699.03797468357, '#stm_sap_meldnr': 72455202.31645569, 'stm_mon_nr': 217569.54430379748, 'stm_geo_mld': 313.8354430379747, 'stm_geo_mld_uit_functiepl': 313.8354430379747, 'stm_km_van_mld': 24438.177215189873, 'stm_km_tot_mld': 7409.848101265823, 'stm_prioriteit': 5.746835443037975, 'stm_geo_gst': 298.74285714285713, 'stm_geo_gst_uit_functiepl': 298.74285714285713, 'stm_km_van_gst': 33818.443037974685, 'stm_km_tot_gst': 7409.848101265823, 'stm_oorz_code': 190.4, 'stm_fh_status': 2.8289473684210527, 'stm_tao_telling_mutatie': 0.012658227848101266, 'stm_contractgeb_gst': 29.88607594936709, 'stm_arbeid': 39240527.164556965, 'stm_progfh_in_duur': 41772227.468354434, 'stm_progfh_gw_duur': 99999999.0, 'stm_progfh_gw_teller': 0.0, 'stm_fh_duur': 372.44303797468353, 'stm_reactie_duur': 186871655.07594937}\n",
      "Columns filled with mode:  {'stm_sap_meld_ddt': '11/05/2013 07:17:00', 'stm_sap_meldtekst_lang': 'cup : wl-4439 2 in/uit de storing.', 'stm_sap_meldtekst': 'cup : wl-4439 2 in/uit de storing.', 'stm_status_melding_sap': 'mafs', 'stm_aanngeb_ddt': '11/05/2013 07:17:00', 'stm_oh_pg_gst': '71s', 'stm_oorz_groep': 'techonv', 'stm_fh_ddt': '13/05/2013 02:29:00', 'stm_sap_storeind_ddt': '13/05/2013 02:30:00', 'stm_tao_indicator': 'n', 'stm_tao_beinvloedbaar_indicator': 'b', 'stm_evb': '0,00', 'stm_sap_melddatum': '11/12/2016', 'stm_sap_meldtijd': '07:17:00', 'stm_functiepl_mld': '155-302-1000128525', 'stm_functiepl_gst': '155-302-1000128525', 'stm_techn_gst': 'b', 'stm_aanngeb_dd': '11/12/2016', 'stm_aanngeb_tijd': '07:17:00', 'stm_aanntpl_tijd': '00:00:00', 'stm_progfh_in_tijd': '00:00:00', 'stm_progfh_in_invoer_tijd': '00:00:00', 'stm_progfh_gw_tijd': '00:00:00', 'stm_afspr_aanvangdd': '00/00/0000', 'stm_afspr_aanvangtijd': '00:00:00', 'stm_fh_dd': '11/12/2016', 'stm_fh_tijd': '02:29:00', 'stm_sap_storeinddatum': '23/01/2006', 'stm_sap_storeindtijd': '00:00:00'}\n",
      "Cleaned dataframe shape:  (79, 51)\n"
     ]
    }
   ],
   "source": [
    "# Define the columns to drop\n",
    "columns_to_drop = ['stm_sap_mon_meld_ddt', 'stm_mon_begin_ddt', 'stm_mon_toelichting_trdl', 'stm_oh_pg_mld',\n",
    "                   'stm_scenario_mon', 'stm_mon_nr_status_omschr', 'stm_mon_nr__statuscode', 'stm_mon_nr_status_wijzdd',\n",
    "                   'stm_aanntpl_ddt', 'stm_objectdl_code_gst', 'stm_objectdl_groep_gst', 'stm_progfh_in_ddt',\n",
    "                   'stm_progfh_in_invoer_ddt', 'stm_progfh_gw_ddt', 'stm_progfh_gw_lwd_ddt', 'stm_progfh_hz',\n",
    "                   'stm_veroorz_groep', 'stm_veroorz_code', 'stm_veroorz_tekst_kort', 'stm_effect', 'stm_afspr_aanvangddt',\n",
    "                   'stm_mon_eind_ddt', 'stm_mon_vhdsincident', 'stm_dir_betrok_tr', 'stm_aangelegd_dd', 'stm_aangelegd_tijd',\n",
    "                   'stm_mon_begindatum', 'stm_mon_begintijd', 'stm_progfh_gw_datum', 'stm_mon_eind_datum', 'stm_mon_eind_tijd',\n",
    "                   'stm_controle_dd', 'stm_akkoord_mon_toewijz', 'stm_status_sapnaarmon', 'stm_fact_jn', 'stm_akkoord_melding_jn',\n",
    "                   'stm_afsluit_ddt', 'stm_afsluit_dd', 'stm_afsluit_tijd', 'stm_rec_toegev_ddt', 'stm_hinderwaarde',\n",
    "                   'stm_actie', 'stm_standplaats', 'stm_status_gebr', 'stm_wbi_nummer', 'stm_projnr', 'stm_historie_toelichting',\n",
    "                   'stm_schade_verhaalb_jn', 'stm_schadenr', 'stm_schade_status_ga', 'stm_schade_statusdatum', 'stm_relatiervo_vorig',\n",
    "                   'stm_relatiervo_volgend', 'stm_relatiervo', 'stm_afspr_func_hersteldd', 'stm_afspr_func_hersteltijd',\n",
    "                   'stm_sorteerveld', 'stm_rapportage_maand', 'stm_rapportage_jaar', 'stm_x_bron_publ_dt', 'stm_x_bron_bestandsnaam',\n",
    "                   'stm_x_bron_arch_dt', 'stm_x_actueel_ind', 'stm_x_run_id', 'stm_x_bk', 'stm_x_start_sessie_dt', 'stm_x_vervallen_ind']\n",
    "\n",
    "# Load the data\n",
    "df = load_data('sap_storing_data_hu_subset.csv')\n",
    "\n",
    "# Drop the unnecessary columns\n",
    "df = drop_columns(df, columns_to_drop)\n",
    "\n",
    "# Clean the data (handle missing values, remove columns with excessive NaNs)\n",
    "df, avg_list, mode_list = clean_data(df)\n",
    "\n",
    "# Save the cleaned data to a new CSV (optional)\n",
    "save_data(df, 'final_db_cleaned.csv')\n",
    "\n",
    "# Display results (optional)\n",
    "print(\"Data cleaning complete.\")\n",
    "print(\"Columns filled with averages: \", avg_list)\n",
    "print(\"Columns filled with mode: \", mode_list)\n",
    "print(\"Cleaned dataframe shape: \", df.shape)\n"
   ]
  },
  {
   "cell_type": "code",
   "execution_count": 3,
   "metadata": {},
   "outputs": [
    {
     "data": {
      "text/plain": [
       "<bound method NDFrame.describe of     Unnamed: 0  #stm_sap_meldnr  stm_mon_nr     stm_sap_meld_ddt  \\\n",
       "0            1         50053211         0.0  02/01/2006 09:00:00   \n",
       "1            2         50053213        48.0  02/01/2006 12:35:00   \n",
       "2            3         50053214        72.0  02/01/2006 16:40:00   \n",
       "3            4         50053215        96.0  02/01/2006 22:30:00   \n",
       "4            5         50053218        38.0  02/01/2006 11:23:00   \n",
       "..         ...              ...         ...                  ...   \n",
       "74      908625         99003505         0.0  11/05/2013 08:06:00   \n",
       "75      908626         99003506         0.0  11/05/2013 09:21:00   \n",
       "76      908627         99003506         0.0  11/05/2013 09:21:00   \n",
       "77      908628         99999999         0.0  20/08/2016 14:15:17   \n",
       "78      908629         99999999         0.0  20/08/2016 14:15:17   \n",
       "\n",
       "                               stm_sap_meldtekst_lang  \\\n",
       "0   logboeknr  geeltje  :   49 tijd: 0900   vl-pos...   \n",
       "1   logboeknr  rbv  :   48 tijd: 1235   vl-post: g...   \n",
       "2   logboeknr  rbv  :   72 tijd: 1640   vl-post: z...   \n",
       "3   logboeknr  rbv  :   96 tijd: 2230   vl-post: z...   \n",
       "4   logboeknr  rbv  :   38 tijd: 1123   vl-post: e...   \n",
       "..                                                ...   \n",
       "74  gvc : sp-2 en 3  stop lampen op de stootjukken...   \n",
       "75  whz : ovw 100.1 albert plesmanweg blijft  dich...   \n",
       "76  whz : ovw 100.1 albert plesmanweg blijft  dich...   \n",
       "77  bdg-apn : km 12.7 twee gedode zwanen langs het...   \n",
       "78  bdg-apn : km 12.7 twee gedode zwanen langs het...   \n",
       "\n",
       "                           stm_sap_meldtekst  stm_geo_mld  \\\n",
       "0      logboeknr  geeltje  :   49 tijd: 0900        624.0   \n",
       "1   logboeknr  rbv  :   48 tijd: 1235   vl-p        201.0   \n",
       "2   logboeknr  rbv  :   72 tijd: 1640   vl-p         25.0   \n",
       "3   logboeknr  rbv  :   96 tijd: 2230   vl-p         12.0   \n",
       "4   logboeknr  rbv  :   38 tijd: 1123   vl-p        614.0   \n",
       "..                                       ...          ...   \n",
       "74  gvc : sp-2 en 3  stop lampen op de stoot        560.0   \n",
       "75  whz : ovw 100.1 albert plesmanweg blijft        468.0   \n",
       "76  whz : ovw 100.1 albert plesmanweg blijft        468.0   \n",
       "77  bdg-apn : km 12.7 twee gedode zwanen lan        102.0   \n",
       "78  bdg-apn : km 12.7 twee gedode zwanen lan        102.0   \n",
       "\n",
       "    stm_geo_mld_uit_functiepl  stm_km_van_mld  stm_km_tot_mld  ...  \\\n",
       "0                       624.0             0.0             0.0  ...   \n",
       "1                       201.0             0.0             0.0  ...   \n",
       "2                        25.0             0.0             0.0  ...   \n",
       "3                        12.0             0.0             0.0  ...   \n",
       "4                       614.0             0.0             0.0  ...   \n",
       "..                        ...             ...             ...  ...   \n",
       "74                      560.0         24500.0             0.0  ...   \n",
       "75                      468.0        100051.0             0.0  ...   \n",
       "76                      468.0        100051.0             0.0  ...   \n",
       "77                      102.0             0.0             0.0  ...   \n",
       "78                      102.0             0.0             0.0  ...   \n",
       "\n",
       "    stm_progfh_gw_duur stm_progfh_gw_teller stm_afspr_aanvangdd  \\\n",
       "0           99999999.0                  0.0          00/00/0000   \n",
       "1           99999999.0                  0.0          00/00/0000   \n",
       "2           99999999.0                  0.0          00/00/0000   \n",
       "3           99999999.0                  0.0          00/00/0000   \n",
       "4           99999999.0                  0.0          00/00/0000   \n",
       "..                 ...                  ...                 ...   \n",
       "74          99999999.0                  0.0          00/00/0000   \n",
       "75          99999999.0                  0.0          00/00/0000   \n",
       "76          99999999.0                  0.0          00/00/0000   \n",
       "77          99999999.0                  0.0          00/00/0000   \n",
       "78          99999999.0                  0.0          00/00/0000   \n",
       "\n",
       "   stm_afspr_aanvangtijd   stm_fh_dd  stm_fh_tijd  stm_fh_duur  \\\n",
       "0               00:00:00  02/01/2006     09:00:00          0.0   \n",
       "1               00:00:00  02/01/2006     13:26:00         51.0   \n",
       "2               00:00:00  02/01/2006     17:20:00         40.0   \n",
       "3               00:00:00  02/01/2006     22:36:00          6.0   \n",
       "4               00:00:00  02/01/2006     11:30:00          7.0   \n",
       "..                   ...         ...          ...          ...   \n",
       "74              00:00:00  11/05/2013     09:29:00         83.0   \n",
       "75              00:00:00  11/05/2013     10:44:00         83.0   \n",
       "76              00:00:00  11/05/2013     10:44:00         83.0   \n",
       "77              00:00:00  20/08/2016     15:14:00         19.0   \n",
       "78              00:00:00  20/08/2016     15:14:00         19.0   \n",
       "\n",
       "    stm_reactie_duur stm_sap_storeinddatum  stm_sap_storeindtijd  \n",
       "0       1.000000e+08            02/01/2006              09:00:00  \n",
       "1       1.000000e+08            02/01/2006              13:26:00  \n",
       "2       1.000000e+08            02/01/2006              17:20:00  \n",
       "3       1.000000e+08            02/01/2006              22:36:00  \n",
       "4       1.000000e+08            23/01/2006              00:00:00  \n",
       "..               ...                   ...                   ...  \n",
       "74      5.900000e+01            11/05/2013              09:30:00  \n",
       "75      4.700000e+01            11/05/2013              10:44:00  \n",
       "76      4.700000e+01            11/05/2013              10:44:00  \n",
       "77      1.060125e+09            20/08/2016              15:15:00  \n",
       "78      1.060125e+09            20/08/2016              15:15:00  \n",
       "\n",
       "[79 rows x 51 columns]>"
      ]
     },
     "execution_count": 3,
     "metadata": {},
     "output_type": "execute_result"
    }
   ],
   "source": [
    "df.describe"
   ]
  },
  {
   "cell_type": "code",
   "execution_count": 4,
   "metadata": {},
   "outputs": [],
   "source": [
    "# Updated function to handle both scalar and array return types\n",
    "def mode_per_group(group):\n",
    "    mode_result = stats.mode(group, keepdims=True)  # Ensure it returns in an array-like format\n",
    "    return mode_result.mode[0]  # Safely access the mode value\n",
    "\n",
    "# Calculate baseline (mode) for each oorzaak code\n",
    "baseline_modes = df.groupby('stm_oorz_code')['stm_fh_duur'].apply(mode_per_group).reset_index()\n",
    "baseline_modes.columns = ['stm_oorz_code', 'baseline_fh_duur']\n",
    "\n",
    "# Merge baseline values with the original DataFrame\n",
    "df = df.merge(baseline_modes, on='stm_oorz_code')\n",
    "\n",
    "# Calculate the difference between actual time and baseline (mode)\n",
    "df['difference'] = df['stm_fh_duur'] - df['baseline_fh_duur']"
   ]
  },
  {
   "cell_type": "code",
   "execution_count": 5,
   "metadata": {},
   "outputs": [
    {
     "name": "stdout",
     "output_type": "stream",
     "text": [
      "Mean Absolute Error (MAE): 254.9240506329114\n"
     ]
    }
   ],
   "source": [
    "# Mean Absolute Error (MAE)\n",
    "mae = df['difference'].abs().mean()\n",
    "print(f'Mean Absolute Error (MAE): {mae}')\n"
   ]
  },
  {
   "cell_type": "code",
   "execution_count": 6,
   "metadata": {},
   "outputs": [
    {
     "name": "stdout",
     "output_type": "stream",
     "text": [
      "Accuracy of the baseline model: 41.77%\n"
     ]
    }
   ],
   "source": [
    "# Check if the baseline prediction matches the actual time\n",
    "df['correct_prediction'] = df['stm_fh_duur'] == df['baseline_fh_duur']\n",
    "\n",
    "# Calculate the accuracy in percentage\n",
    "accuracy = df['correct_prediction'].mean() * 100\n",
    "\n",
    "# Print the accuracy\n",
    "print(f'Accuracy of the baseline model: {accuracy:.2f}%')\n"
   ]
  },
  {
   "cell_type": "code",
   "execution_count": 7,
   "metadata": {},
   "outputs": [
    {
     "name": "stdout",
     "output_type": "stream",
     "text": [
      "Mean Squared Error: 641295.12433233\n",
      "R-squared: 27.69%\n"
     ]
    }
   ],
   "source": [
    "# Onafhankelijke variabelen (X) en afhankelijke variabele (y)\n",
    "X = df[['stm_progfh_in_duur', 'stm_oorz_code']]\n",
    "y = df['stm_fh_duur']\n",
    "\n",
    "X_train, X_test, y_train, y_test = train_test_split(X, y, test_size=0.2, random_state=42)\n",
    "\n",
    "# Lineair regressiemodel aanmaken\n",
    "model = LinearRegression()\n",
    "\n",
    "# Train het model\n",
    "model.fit(X_train, y_train)\n",
    "\n",
    "# Maak voorspellingen op de testset\n",
    "y_pred = model.predict(X_test)\n",
    "\n",
    "# Bereken de evaluatiestatistieken\n",
    "mse = mean_squared_error(y_test, y_pred)\n",
    "r2 = r2_score(y_test, y_pred)\n",
    "\n",
    "# Zet R2 om in een percentage\n",
    "r2_percentage = r2 * 100\n",
    "\n",
    "print(f'Mean Squared Error: {mse}')\n",
    "print(f'R-squared: {r2_percentage:.2f}%')\n"
   ]
  }
 ],
 "metadata": {
  "kernelspec": {
   "display_name": "Python 3",
   "language": "python",
   "name": "python3"
  },
  "language_info": {
   "codemirror_mode": {
    "name": "ipython",
    "version": 3
   },
   "file_extension": ".py",
   "mimetype": "text/x-python",
   "name": "python",
   "nbconvert_exporter": "python",
   "pygments_lexer": "ipython3",
   "version": "3.11.3"
  }
 },
 "nbformat": 4,
 "nbformat_minor": 2
}
