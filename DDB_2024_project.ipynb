{
 "cells": [
  {
   "cell_type": "markdown",
   "metadata": {},
   "source": [
    "# Data Driven Business project\n",
    "\n",
    "- Elijah Hofman\n",
    "- Jack Pieper\n",
    "- Rick van der Kleij\n",
    "- Mathijs de Jong (V2B)"
   ]
  },
  {
   "cell_type": "code",
   "execution_count": null,
   "metadata": {},
   "outputs": [],
   "source": [
    "import pandas as pd\n",
    "import numpy as np\n",
    "import matplotlib.pyplot as plt\n",
    "import seaborn as sns\n",
    "from scipy import stats\n",
    "from cleaning import *\n",
    "from sklearn.model_selection import train_test_split, GridSearchCV\n",
    "from sklearn.linear_model import LinearRegression\n",
    "from sklearn.metrics import mean_squared_error, r2_score, accuracy_score, mean_absolute_error\n",
    "from sklearn.tree import DecisionTreeRegressor, plot_tree\n",
    "from sklearn.ensemble import RandomForestRegressor\n",
    "from customAccuracy import *\n",
    "import joblib"
   ]
  },
  {
   "cell_type": "markdown",
   "metadata": {},
   "source": [
    "### Importeren dataset"
   ]
  },
  {
   "cell_type": "code",
   "execution_count": null,
   "metadata": {},
   "outputs": [],
   "source": [
    "# Load the data\n",
    "df = load_data('sap_storing_data_hu_project.csv')"
   ]
  },
  {
   "cell_type": "markdown",
   "metadata": {},
   "source": [
    "# Data understanding"
   ]
  },
  {
   "cell_type": "code",
   "execution_count": null,
   "metadata": {},
   "outputs": [],
   "source": [
    "df.describe()"
   ]
  },
  {
   "cell_type": "markdown",
   "metadata": {},
   "source": [
    "# Data voorbereiding"
   ]
  },
  {
   "cell_type": "code",
   "execution_count": null,
   "metadata": {},
   "outputs": [],
   "source": [
    "# Define the columns to drop\n",
    "columns_to_drop = ['stm_sap_mon_meld_ddt', 'stm_mon_begin_ddt', 'stm_mon_toelichting_trdl', 'stm_oh_pg_mld',\n",
    "                   'stm_scenario_mon', 'stm_mon_nr_status_omschr', 'stm_mon_nr__statuscode', 'stm_mon_nr_status_wijzdd',\n",
    "                   'stm_aanntpl_ddt', 'stm_objectdl_code_gst', 'stm_objectdl_groep_gst', 'stm_progfh_in_ddt',\n",
    "                   'stm_progfh_in_invoer_ddt', 'stm_progfh_gw_ddt', 'stm_progfh_gw_lwd_ddt', 'stm_progfh_hz',\n",
    "                   'stm_veroorz_groep', 'stm_veroorz_code', 'stm_veroorz_tekst_kort', 'stm_effect', 'stm_afspr_aanvangddt',\n",
    "                   'stm_mon_eind_ddt', 'stm_mon_vhdsincident', 'stm_dir_betrok_tr', 'stm_aangelegd_dd', 'stm_aangelegd_tijd',\n",
    "                   'stm_mon_begindatum', 'stm_mon_begintijd', 'stm_progfh_gw_datum', 'stm_mon_eind_datum', 'stm_mon_eind_tijd',\n",
    "                   'stm_controle_dd', 'stm_akkoord_mon_toewijz', 'stm_status_sapnaarmon', 'stm_fact_jn', 'stm_akkoord_melding_jn',\n",
    "                   'stm_afsluit_ddt', 'stm_afsluit_dd', 'stm_afsluit_tijd', 'stm_rec_toegev_ddt', 'stm_hinderwaarde',\n",
    "                   'stm_actie', 'stm_standplaats', 'stm_status_gebr', 'stm_wbi_nummer', 'stm_projnr', 'stm_historie_toelichting',\n",
    "                   'stm_schade_verhaalb_jn', 'stm_schadenr', 'stm_schade_status_ga', 'stm_schade_statusdatum', 'stm_relatiervo_vorig',\n",
    "                   'stm_relatiervo_volgend', 'stm_relatiervo', 'stm_afspr_func_hersteldd', 'stm_afspr_func_hersteltijd',\n",
    "                   'stm_sorteerveld', 'stm_rapportage_maand', 'stm_rapportage_jaar', 'stm_x_bron_publ_dt', 'stm_x_bron_bestandsnaam',\n",
    "                   'stm_x_bron_arch_dt', 'stm_x_actueel_ind', 'stm_x_run_id', 'stm_x_bk', 'stm_x_start_sessie_dt', 'stm_x_vervallen_ind']\n",
    "\n",
    "# Drop the unnecessary columns\n",
    "df = drop_columns(df, columns_to_drop)\n",
    "\n",
    "# Clean the data (handle missing values, remove columns with excessive NaNs)\n",
    "df, avg_list, mode_list = clean_data(df)\n",
    "\n",
    "# Preprocess the data\n",
    "df = preprocess_data(df)\n",
    "\n",
    "# Save the cleaned data to a new CSV (optional)\n",
    "save_data(df, 'final_db_cleaned.csv')\n",
    "\n",
    "# Convert 'stm_aanntpl_tijd' to datetime if it is not already\n",
    "df['stm_aanntpl_tijd'] = pd.to_datetime(df['stm_aanntpl_tijd'], format='%H:%M:%S')\n",
    "\n",
    "# Calculate the number of seconds since the first date in the dataset\n",
    "df['stm_aanntpl_tijd_in_seconden'] = (df['stm_aanntpl_tijd'] - df['stm_aanntpl_tijd'].min()).dt.total_seconds()\n",
    "\n",
    "# Optionally display results\n",
    "print(\"Data cleaning and preprocessing complete.\")"
   ]
  },
  {
   "cell_type": "code",
   "execution_count": null,
   "metadata": {},
   "outputs": [],
   "source": [
    "# Identificeer numerieke kolommen\n",
    "numeric_columns = [col for col in df.columns if pd.api.types.is_numeric_dtype(df[col])]\n",
    "\n",
    "# Toon het aantal ontbrekende waarden per kolom\n",
    "print(df.isna().sum())\n",
    "\n",
    "# Bereken de correlatiematrix voor numerieke kolommen en verwijder rijen/kolommen met alleen NaN-waarden\n",
    "cmatrix = df[numeric_columns].corr().dropna(how='all', axis=1).dropna(how='all')\n",
    "\n",
    "# Stel de grootte van de figuur in voor een grotere matrix\n",
    "plt.figure(figsize=(14, 10))  # Pas deze waarden aan voor een nog groter formaat\n",
    "\n",
    "# Plot de heatmap van de correlatiematrix\n",
    "sns.heatmap(cmatrix, annot=True, fmt='.2f', cmap='coolwarm')\n",
    "plt.show()\n",
    "plt.close()\n"
   ]
  },
  {
   "cell_type": "markdown",
   "metadata": {},
   "source": [
    "# target varible maken"
   ]
  },
  {
   "cell_type": "code",
   "execution_count": null,
   "metadata": {},
   "outputs": [],
   "source": [
    "# Maak kolom voor de targetvariabele, de tijd tussen aannemer ter plaatse en functieherstel\n",
    "df['stm_aanntpl_tijd'] = pd.to_datetime(df['stm_aanntpl_tijd'], format=\"%H:%M:%S\", errors='coerce')\n",
    "\n",
    "# Records waar stm_aanntpl_tijd niet is ingevuld verwijderen (stm_aanntpl_tijd == 00:00:00 in deze gevallen)\n",
    "df = df[df['stm_aanntpl_tijd'] != pd.to_datetime(\"00:00:00\").time()]\n",
    "\n",
    "# Kolom targetvariabele aanmaken\n",
    "df['target'] = df['stm_fh_ddt'] - df['stm_aanntpl_tijd']\n",
    "\n",
    "# Selecteer alleen de tijd van target\n",
    "df['target'] = df['target'].dt.components.apply(lambda x: f\"{x.hours:02}:{x.minutes:02}:{x.seconds:02}\", axis=1)\n",
    "\n",
    "# Records met target van 0 minuten verwijderen (stm_aanntpl_tijd == stm_fh_ddt in deze gevallen)\n",
    "df = df[df['target'] != pd.to_datetime(\"00:00:00\").time()]\n",
    "\n",
    "# Target converteren naar minuten zodat het in het model gebruikt kan worden\n",
    "# Convert `target` to seconds\n",
    "df['target'] = (df['target'] / pd.Timedelta(minutes=1)).astype(int)\n",
    "\n",
    "\n",
    "df[['stm_sap_meld_ddt', 'stm_fh_ddt', 'totale_functiehersteltijd', 'stm_aanntpl_tijd', 'target', 'stm_fh_duur']].sample(10)"
   ]
  },
  {
   "cell_type": "markdown",
   "metadata": {},
   "source": [
    "# Baseline model"
   ]
  },
  {
   "cell_type": "code",
   "execution_count": null,
   "metadata": {},
   "outputs": [],
   "source": [
    "# Extract the relevant columns\n",
    "X = df[['stm_progfh_in_duur_clean']]    # Predictor\n",
    "y = df['target']                        # Target\n",
    "\n",
    "# Handle missing values (if any)\n",
    "X = X.fillna(X.mean())\n",
    "y = y.fillna(y.mean())\n",
    "\n",
    "# Split the data into training and testing sets\n",
    "X_train, X_test, y_train, y_test = train_test_split(X, y, test_size=0.2, random_state=42)\n",
    "\n",
    "# Initialize and train the linear regression model\n",
    "model = LinearRegression()\n",
    "model.fit(X_train, y_train)\n",
    "\n",
    "# Make predictions on the test set\n",
    "y_pred = model.predict(X_test)\n",
    "\n",
    "# Evaluate the model's performance\n",
    "mae = mean_absolute_error(y_test, y_pred)\n",
    "mse = mean_squared_error(y_test, y_pred)\n",
    "rmse = np.sqrt(mse)\n",
    "\n",
    "print(\"Mean Absolute Error (MAE):\", mae)\n",
    "print(\"Mean Squared Error (MSE):\", mse)\n",
    "print(\"Root Mean Squared Error (RMSE):\", rmse)\n"
   ]
  },
  {
   "cell_type": "code",
   "execution_count": null,
   "metadata": {},
   "outputs": [],
   "source": [
    "# Onafhankelijke variabelen (X) en afhankelijke variabele (y)\n",
    "X = df[['stm_progfh_in_duur_clean', 'stm_oorz_code']]\n",
    "y = df['target']\n",
    "\n",
    "# Splitsen van de dataset\n",
    "X_train, X_test, y_train, y_test = train_test_split(X, y, test_size=0.2, random_state=42)\n",
    "\n",
    "# Decision Tree Regressor aanmaken met beperkte diepte\n",
    "dt_model = DecisionTreeRegressor(max_depth=3, random_state=42)\n",
    "\n",
    "# Train het model\n",
    "dt_model.fit(X_train, y_train)\n",
    "\n",
    "# Maak voorspellingen op de testset\n",
    "y_pred_dt = dt_model.predict(X_test)\n",
    "\n",
    "# Bereken de evaluatiestatistieken\n",
    "mse_dt = mean_squared_error(y_test, y_pred_dt)\n",
    "mae_dt = mean_absolute_error(y_test, y_pred_dt)\n",
    "rmse_dt = np.sqrt(mse_dt)\n",
    "\n",
    "print(f'Mean Squared Error van Decision Tree: {mse_dt}') \n",
    "print(f'Mean Absolute Error van Decision Tree: {mae_dt}') \n",
    "print(\"Root Mean Squared Error (RMSE):\", rmse_dt)\n",
    "\n",
    "# Visualiseer de Decision Tree\n",
    "plt.figure(figsize=(12, 8))\n",
    "plot_tree(dt_model, feature_names=X.columns, filled=True)\n",
    "plt.title('Decision Tree voor stm_fh_duur (max_depth=3)')\n",
    "plt.show()\n"
   ]
  },
  {
   "cell_type": "code",
   "execution_count": null,
   "metadata": {},
   "outputs": [],
   "source": [
    "# Onafhankelijke variabelen (X) en afhankelijke variabele (y)\n",
    "X = df[['stm_progfh_in_duur_clean', 'stm_oorz_code', 'stm_geo_mld', 'stm_sap_meldtijd', 'stm_aanntpl_tijd_in_seconden']]\n",
    "y = df['target']\n",
    "\n",
    "# Splitsen van de dataset\n",
    "X_train, X_test, y_train, y_test = train_test_split(X, y, test_size=0.2, random_state=42)\n",
    "\n",
    "# Decision Tree Regressor aanmaken met beperkte diepte\n",
    "dt2_model = DecisionTreeRegressor(max_depth=3, random_state=42)\n",
    "\n",
    "# Train het model\n",
    "dt2_model.fit(X_train, y_train)\n",
    "\n",
    "# Maak voorspellingen op de testset\n",
    "y_pred_dt = dt2_model.predict(X_test)\n",
    "\n",
    "# Bereken de evaluatiestatistieken\n",
    "mse2_dt = mean_squared_error(y_test, y_pred_dt)\n",
    "mae2_dt = mean_absolute_error(y_test, y_pred_dt)\n",
    "rmse2_dt = np.sqrt(mse2_dt)\n",
    "\n",
    "print(f'Mean Squared Error van Decision Tree: {mse2_dt}') \n",
    "print(f'Mean Absolute Error van Decision Tree: {mae2_dt}') \n",
    "print(\"Root Mean Squared Error (RMSE):\", rmse2_dt)\n",
    "\n",
    "# Visualiseer de Decision Tree\n",
    "plt.figure(figsize=(12, 8))\n",
    "plot_tree(dt2_model, feature_names=X.columns, filled=True)\n",
    "plt.title('Decision Tree voor stm_fh_duur (max_depth=3)')\n",
    "plt.show()"
   ]
  },
  {
   "cell_type": "code",
   "execution_count": null,
   "metadata": {},
   "outputs": [],
   "source": [
    "# Onafhankelijke variabelen (X) en afhankelijke variabele (y)\n",
    "X = df[['stm_progfh_in_duur_clean', 'stm_oorz_code', 'stm_geo_mld', 'stm_sap_meldtijd', 'stm_aanntpl_tijd_in_seconden']]\n",
    "y = df['target']\n",
    "\n",
    "# Splitsen van de dataset\n",
    "X_train, X_test, y_train, y_test = train_test_split(X, y, test_size=0.2, random_state=42)\n",
    "\n",
    "# Instellen van de parameters voor Grid Search\n",
    "param_grid = {\n",
    "    'max_depth': [20],  # Verschillende diepten van de bomen\n",
    "    'n_estimators': [100],  # We houden het aantal estimators constant op 100\n",
    "}\n",
    "\n",
    "# Grid Search aanmaken\n",
    "grid_search = GridSearchCV(RandomForestRegressor(random_state=42), param_grid, cv=5, scoring='neg_mean_squared_error')\n",
    "\n",
    "# Train het model met Grid Search\n",
    "grid_search.fit(X_train, y_train)\n",
    "\n",
    "# Beste model en parameters\n",
    "best_rf_model = grid_search.best_estimator_\n",
    "print(f'Beste hyperparameters: {grid_search.best_params_}')\n",
    "\n",
    "# Sla het beste model op\n",
    "joblib.dump(best_rf_model, 'beste_random_forest_model.pkl')\n",
    "\n",
    "# Maak voorspellingen op de testset met het beste model\n",
    "y_pred_rf = best_rf_model.predict(X_test)\n",
    "\n",
    "# Bereken de evaluatiestatistieken\n",
    "mse_rf = mean_squared_error(y_test, y_pred_rf)\n",
    "mae_rf = mean_absolute_error(y_test, y_pred_rf)\n",
    "rmse_rf = np.sqrt(mse_rf)\n",
    "\n",
    "print(f'Mean Squared Error van Decision Tree: {mse_rf}') \n",
    "print(f'Mean Absolute Error van Decision Tree: {mae_rf}') \n",
    "print(\"Root Mean Squared Error (RMSE):\", rmse_rf)\n",
    "\n",
    "\n",
    "# Belangrijkste kenmerken van het model plotten\n",
    "importances = best_rf_model.feature_importances_\n",
    "indices = np.argsort(importances)[::-1]\n",
    "features = X.columns\n",
    "\n",
    "plt.figure(figsize=(10, 6))\n",
    "plt.title(\"Feature Importances in Random Forest Model\")\n",
    "plt.bar(range(X.shape[1]), importances[indices], align=\"center\")\n",
    "plt.xticks(range(X.shape[1]), [features[i] for i in indices], rotation=45)\n",
    "plt.xlabel(\"Features\")\n",
    "plt.ylabel(\"Belang\")\n",
    "plt.show()"
   ]
  },
  {
   "cell_type": "code",
   "execution_count": null,
   "metadata": {},
   "outputs": [],
   "source": [
    "# Limiteer de voorspellingen en werkelijke waarden\n",
    "max_duration = 1500\n",
    "y_pred_binned = np.clip(np.round(y_pred_rf / 10) * 10, 0, max_duration)\n",
    "y_test_binned = np.clip(np.round(y_test / 10) * 10, 0, max_duration)\n",
    "\n",
    "# Bereken de nauwkeurigheid binnen deze limiet\n",
    "accuracy = accuracy_score(y_test_binned, y_pred_binned)\n",
    "print(f\"Nauwkeurigheid binnen 10-minuten-bins: {accuracy:.2f}\")\n",
    "\n",
    "# Unieke bins en frequenties berekenen in minuten\n",
    "bins = np.unique(y_test_binned)\n",
    "bin_counts = [(y_test_binned == bin).sum() for bin in bins if bin <= max_duration]\n",
    "\n",
    "# Distributie van voorspellingen en werkelijke waarden plotten\n",
    "plt.figure(figsize=(12, 6))\n",
    "plt.hist(y_pred_binned, bins=np.arange(0, max_duration + 10, 10), alpha=0.5, label='Voorspellingen')\n",
    "plt.hist(y_test_binned, bins=np.arange(0, max_duration + 10, 10), alpha=0.5, label='Werkelijke waarden')\n",
    "plt.xlabel(\"Duur in minuten (gebundeld in 10-minuten-bins)\")\n",
    "plt.ylabel(\"Frequentie\")\n",
    "plt.legend()\n",
    "plt.title(\"Distributie van voorspellingen en werkelijke waarden in 10-minuten-bins\")\n",
    "plt.show()"
   ]
  },
  {
   "cell_type": "code",
   "execution_count": null,
   "metadata": {},
   "outputs": [],
   "source": []
  }
 ],
 "metadata": {
  "kernelspec": {
   "display_name": "Python 3",
   "language": "python",
   "name": "python3"
  },
  "language_info": {
   "codemirror_mode": {
    "name": "ipython",
    "version": 3
   },
   "file_extension": ".py",
   "mimetype": "text/x-python",
   "name": "python",
   "nbconvert_exporter": "python",
   "pygments_lexer": "ipython3",
   "version": "3.11.9"
  }
 },
 "nbformat": 4,
 "nbformat_minor": 4
}
