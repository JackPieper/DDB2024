{
 "cells": [
  {
   "cell_type": "markdown",
   "metadata": {},
   "source": [
    "# Data Driven Business project\n",
    "\n",
    "-\n",
    "-\n",
    "- Rick van der Kleij\n",
    "- Mathijs de Jong (V2B)"
   ]
  },
  {
   "cell_type": "code",
   "execution_count": 412,
   "metadata": {},
   "outputs": [],
   "source": [
    "import pandas as pd\n",
    "import numpy as np\n",
    "import matplotlib.pyplot as plt\n",
    "import seaborn as sns\n",
    "from scipy import stats\n",
    "from cleaning import *\n",
    "from sklearn.model_selection import train_test_split\n",
    "from sklearn.linear_model import LinearRegression\n",
    "from sklearn.metrics import mean_squared_error, r2_score\n",
    "from sklearn.tree import DecisionTreeRegressor, plot_tree\n"
   ]
  },
  {
   "cell_type": "markdown",
   "metadata": {},
   "source": [
    "### Importeren dataset"
   ]
  },
  {
   "cell_type": "code",
   "execution_count": 413,
   "metadata": {},
   "outputs": [],
   "source": [
    "# Load the data\n",
    "df = load_data('sap_storing_data_hu_project.csv')"
   ]
  },
  {
   "cell_type": "markdown",
   "metadata": {},
   "source": [
    "# Data understanding"
   ]
  },
  {
   "cell_type": "code",
   "execution_count": null,
   "metadata": {},
   "outputs": [],
   "source": [
    "df.describe()"
   ]
  },
  {
   "cell_type": "markdown",
   "metadata": {},
   "source": [
    "# Data cleaning"
   ]
  },
  {
   "cell_type": "code",
   "execution_count": null,
   "metadata": {},
   "outputs": [],
   "source": [
    "# Define the columns to drop\n",
    "columns_to_drop = ['stm_sap_mon_meld_ddt', 'stm_mon_begin_ddt', 'stm_mon_toelichting_trdl', 'stm_oh_pg_mld',\n",
    "                   'stm_scenario_mon', 'stm_mon_nr_status_omschr', 'stm_mon_nr__statuscode', 'stm_mon_nr_status_wijzdd',\n",
    "                   'stm_aanntpl_ddt', 'stm_objectdl_code_gst', 'stm_objectdl_groep_gst', 'stm_progfh_in_ddt',\n",
    "                   'stm_progfh_in_invoer_ddt', 'stm_progfh_gw_ddt', 'stm_progfh_gw_lwd_ddt', 'stm_progfh_hz',\n",
    "                   'stm_veroorz_groep', 'stm_veroorz_code', 'stm_veroorz_tekst_kort', 'stm_effect', 'stm_afspr_aanvangddt',\n",
    "                   'stm_mon_eind_ddt', 'stm_mon_vhdsincident', 'stm_dir_betrok_tr', 'stm_aangelegd_dd', 'stm_aangelegd_tijd',\n",
    "                   'stm_mon_begindatum', 'stm_mon_begintijd', 'stm_progfh_gw_datum', 'stm_mon_eind_datum', 'stm_mon_eind_tijd',\n",
    "                   'stm_controle_dd', 'stm_akkoord_mon_toewijz', 'stm_status_sapnaarmon', 'stm_fact_jn', 'stm_akkoord_melding_jn',\n",
    "                   'stm_afsluit_ddt', 'stm_afsluit_dd', 'stm_afsluit_tijd', 'stm_rec_toegev_ddt', 'stm_hinderwaarde',\n",
    "                   'stm_actie', 'stm_standplaats', 'stm_status_gebr', 'stm_wbi_nummer', 'stm_projnr', 'stm_historie_toelichting',\n",
    "                   'stm_schade_verhaalb_jn', 'stm_schadenr', 'stm_schade_status_ga', 'stm_schade_statusdatum', 'stm_relatiervo_vorig',\n",
    "                   'stm_relatiervo_volgend', 'stm_relatiervo', 'stm_afspr_func_hersteldd', 'stm_afspr_func_hersteltijd',\n",
    "                   'stm_sorteerveld', 'stm_rapportage_maand', 'stm_rapportage_jaar', 'stm_x_bron_publ_dt', 'stm_x_bron_bestandsnaam',\n",
    "                   'stm_x_bron_arch_dt', 'stm_x_actueel_ind', 'stm_x_run_id', 'stm_x_bk', 'stm_x_start_sessie_dt', 'stm_x_vervallen_ind']\n",
    "\n",
    "# Drop the unnecessary columns\n",
    "df = drop_columns(df, columns_to_drop)\n",
    "\n",
    "# Clean the data (handle missing values, remove columns with excessive NaNs)\n",
    "df, avg_list, mode_list = clean_data(df)\n",
    "\n",
    "# Filter de data op rijen met een totale_functiehersteltijd van tussen de 5 mins en 8 uur.\n",
    "df = filter_data(df)\n",
    "\n",
    "# Save the cleaned data to a new CSV (optional)\n",
    "save_data(df, 'final_db_cleaned.csv')\n",
    "\n",
    "# Display results (optional)\n",
    "print(\"Data cleaning complete.\")\n",
    "print(\"Columns filled with averages: \", avg_list)\n",
    "print(\"Columns filled with mode: \", mode_list)\n",
    "print(\"Cleaned dataframe shape: \", df.shape)\n"
   ]
  },
  {
   "cell_type": "code",
   "execution_count": 416,
   "metadata": {},
   "outputs": [],
   "source": [
    "# Converteer prognose invoer kolommen naar bruikbare datetime objecten.\n",
    "df['stm_progfh_in_invoer_dat'] = pd.to_datetime(df['stm_sap_meld_ddt'].dt.date)\n",
    "df['stm_progfh_in_invoer_tijd'] = pd.to_timedelta(df['stm_progfh_in_invoer_tijd'])\n",
    "\n",
    "# Maak een nieuwe kolom voor het tijdstip waarop de aannemer zijn prognose invult.\n",
    "df['prognose_invoer_tijdstip'] = df['stm_progfh_in_invoer_dat'] + df['stm_progfh_in_invoer_tijd']\n",
    "\n",
    "# Maak een nieuwe kolom aan voor de targetvariabele, de tijd tussen het invullen van de prognose door de aannemer en functieherstel.\n",
    "df['target'] = df['totale_functiehersteltijd'] - (df['prognose_invoer_tijdstip'] - df['stm_sap_meld_ddt'])\n",
    "# Zorg ervoor dat de targetvariabele altijd 0 dagen heeft (de berekeningen hierboven kunnen leiden tot een target value dat 1 dag te hoog is.)\n",
    "df['target'] = df['target'].apply(lambda x: pd.Timedelta(hours=x.seconds // 3600, minutes=(x.seconds // 60) % 60, seconds=x.seconds % 60))\n",
    "\n",
    "# Verwijder alle rijen met een negatieve target. In deze gevallen heeft de aannemer zijn prognose na het functieherstel ingevuld, en is de data niet te gebruiken om op te trainen.\n",
    "df = df[df['target'] >= pd.Timedelta(0)]"
   ]
  },
  {
   "cell_type": "code",
   "execution_count": null,
   "metadata": {},
   "outputs": [],
   "source": [
    "# Testen\n",
    "df[['stm_sap_meld_ddt', 'stm_fh_ddt', 'prognose_invoer_tijdstip', 'totale_functiehersteltijd', 'target']].sample(10)"
   ]
  },
  {
   "cell_type": "markdown",
   "metadata": {},
   "source": [
    "# Baseline model"
   ]
  },
  {
   "cell_type": "code",
   "execution_count": 418,
   "metadata": {},
   "outputs": [],
   "source": [
    "# Updated function to handle both scalar and array return types\n",
    "def mode_per_group(group):\n",
    "    mode_result = stats.mode(group, keepdims=True)  # Ensure it returns in an array-like format\n",
    "    return mode_result.mode[0]  # Safely access the mode value\n",
    "\n",
    "# Calculate baseline (mode) for each oorzaak code\n",
    "baseline_modes = df.groupby('stm_oorz_code')['stm_fh_duur'].apply(mode_per_group).reset_index()\n",
    "baseline_modes.columns = ['stm_oorz_code', 'baseline_fh_duur']\n",
    "\n",
    "# Merge baseline values with the original DataFrame\n",
    "df = df.merge(baseline_modes, on='stm_oorz_code')\n",
    "\n",
    "# Calculate the difference between actual time and baseline (mode)\n",
    "df['difference'] = df['stm_fh_duur'] - df['baseline_fh_duur']"
   ]
  },
  {
   "cell_type": "code",
   "execution_count": null,
   "metadata": {},
   "outputs": [],
   "source": [
    "# Mean Absolute Error (MAE)\n",
    "mae = df['difference'].abs().mean()\n",
    "print(f'Mean Absolute Error (MAE): {mae}')\n"
   ]
  },
  {
   "cell_type": "code",
   "execution_count": null,
   "metadata": {},
   "outputs": [],
   "source": [
    "# Check if the baseline prediction matches the actual time\n",
    "df['correct_prediction'] = df['stm_fh_duur'] == df['baseline_fh_duur']\n",
    "\n",
    "# Calculate the accuracy in percentage\n",
    "accuracy = df['correct_prediction'].mean() * 100\n",
    "\n",
    "# Print the accuracy\n",
    "print(f'Accuracy of the baseline model: {accuracy:.2f}%')\n"
   ]
  },
  {
   "cell_type": "code",
   "execution_count": 421,
   "metadata": {},
   "outputs": [],
   "source": [
    "# Verwijder spaties aan het begin en einde van de waarden\n",
    "df['stm_progfh_in_duur_clean'] = df['stm_progfh_in_duur'].str.strip()\n",
    "\n",
    "# Vervang ongeldige waarden door NaN en converteer naar numeriek\n",
    "df['stm_progfh_in_duur_clean'] = pd.to_numeric(df['stm_progfh_in_duur_clean'], errors='coerce')\n",
    "\n",
    "# Vul NaN-waarden in met de gemiddelde waarde (zonder inplace=True)\n",
    "df['stm_progfh_in_duur_clean'] = df['stm_progfh_in_duur_clean'].fillna(df['stm_progfh_in_duur_clean'].mean())"
   ]
  },
  {
   "cell_type": "code",
   "execution_count": null,
   "metadata": {},
   "outputs": [],
   "source": [
    "# Onafhankelijke variabelen (X) en afhankelijke variabele (y)\n",
    "X = df[['stm_progfh_in_duur_clean', 'stm_oorz_code']]\n",
    "y = df['stm_fh_duur']\n",
    "\n",
    "# Splitsen van de dataset\n",
    "X_train, X_test, y_train, y_test = train_test_split(X, y, test_size=0.2, random_state=42)\n",
    "\n",
    "# Lineair regressiemodel aanmaken\n",
    "model = LinearRegression()\n",
    "\n",
    "# Train het model\n",
    "model.fit(X_train, y_train)\n",
    "\n",
    "# Maak voorspellingen op de testset\n",
    "y_pred = model.predict(X_test)\n",
    "\n",
    "# Bereken de evaluatiestatistieken\n",
    "mse = mean_squared_error(y_test, y_pred)\n",
    "r2 = r2_score(y_test, y_pred)\n",
    "\n",
    "print(f'Mean Squared Error: {mse}') \n",
    "print(f'R² waarde: {r2_dt}') \n",
    "\n",
    "# Plot de voorspellingen\n",
    "plt.figure(figsize=(10, 6))\n",
    "sns.scatterplot(x=y_test, y=y_pred, color='blue', label='Voorspellingen')\n",
    "plt.plot([y.min(), y.max()], [y.min(), y.max()], color='red', linestyle='--', label='Ideale voorspelling')\n",
    "plt.title('Voorspellingen vs. Werkelijke Waarden')\n",
    "plt.xlabel('Werkelijke Waarden')\n",
    "plt.ylabel('Voorspellingen')\n",
    "plt.legend()\n",
    "plt.grid(True)\n",
    "plt.show()\n"
   ]
  },
  {
   "cell_type": "code",
   "execution_count": null,
   "metadata": {},
   "outputs": [],
   "source": [
    "# Onafhankelijke variabelen (X) en afhankelijke variabele (y)\n",
    "X = df[['stm_progfh_in_duur_clean', 'stm_oorz_code']]\n",
    "y = df['stm_fh_duur']\n",
    "\n",
    "# Splitsen van de dataset\n",
    "X_train, X_test, y_train, y_test = train_test_split(X, y, test_size=0.2, random_state=42)\n",
    "\n",
    "# Decision Tree Regressor aanmaken\n",
    "dt_model = DecisionTreeRegressor(random_state=42)\n",
    "\n",
    "# Train het model\n",
    "dt_model.fit(X_train, y_train)\n",
    "\n",
    "# Maak voorspellingen op de testset\n",
    "y_pred_dt = dt_model.predict(X_test)\n",
    "\n",
    "# Bereken de evaluatiestatistieken\n",
    "mse_dt = mean_squared_error(y_test, y_pred_dt)\n",
    "r2_dt = r2_score(y_test, y_pred_dt)\n",
    "\n",
    "print(f'Mean Squared Error van Decision Tree: {mse_dt}') \n",
    "print(f'R² waarde van Decision Tree: {r2_dt}') \n",
    "\n",
    "# Visualiseer de Decision Tree\n",
    "# plt.figure(figsize=(12, 8))\n",
    "# plot_tree(dt_model, feature_names=X.columns, filled=True)\n",
    "# plt.title('Decision Tree voor stm_fh_duur')\n",
    "# plt.show()\n"
   ]
  },
  {
   "cell_type": "code",
   "execution_count": null,
   "metadata": {},
   "outputs": [],
   "source": [
    "# Onafhankelijke variabelen (X) en afhankelijke variabele (y)\n",
    "X = df[['stm_progfh_in_duur_clean', 'stm_oorz_code']]\n",
    "y = df['stm_fh_duur']\n",
    "\n",
    "# Splitsen van de dataset\n",
    "X_train, X_test, y_train, y_test = train_test_split(X, y, test_size=0.2, random_state=42)\n",
    "\n",
    "# Decision Tree Regressor aanmaken met beperkte diepte\n",
    "dt_model = DecisionTreeRegressor(max_depth=3, random_state=42)\n",
    "\n",
    "# Train het model\n",
    "dt_model.fit(X_train, y_train)\n",
    "\n",
    "# Maak voorspellingen op de testset\n",
    "y_pred_dt = dt_model.predict(X_test)\n",
    "\n",
    "# Bereken de evaluatiestatistieken\n",
    "mse_dt = mean_squared_error(y_test, y_pred_dt)\n",
    "r2_dt = r2_score(y_test, y_pred_dt)\n",
    "\n",
    "print(f'Mean Squared Error van Decision Tree: {mse_dt}') \n",
    "print(f'R² waarde van Decision Tree: {r2_dt}') \n",
    "\n",
    "# Visualiseer de Decision Tree\n",
    "plt.figure(figsize=(12, 8))\n",
    "plot_tree(dt_model, feature_names=X.columns, filled=True)\n",
    "plt.title('Decision Tree voor stm_fh_duur (max_depth=3)')\n",
    "plt.show()\n"
   ]
  },
  {
   "cell_type": "code",
   "execution_count": null,
   "metadata": {},
   "outputs": [],
   "source": []
  }
 ],
 "metadata": {
  "kernelspec": {
   "display_name": "cm-env",
   "language": "python",
   "name": "python3"
  },
  "language_info": {
   "codemirror_mode": {
    "name": "ipython",
    "version": 3
   },
   "file_extension": ".py",
   "mimetype": "text/x-python",
   "name": "python",
   "nbconvert_exporter": "python",
   "pygments_lexer": "ipython3",
   "version": "3.12.4"
  }
 },
 "nbformat": 4,
 "nbformat_minor": 2
}
