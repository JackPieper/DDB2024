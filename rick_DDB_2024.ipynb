{
 "cells": [
  {
   "cell_type": "markdown",
   "metadata": {},
   "source": [
    "# Data Driven Business project\n",
    "\n",
    "-\n",
    "-\n",
    "- Rick van der Kleij\n",
    "- Mathijs de Jong (V2B)"
   ]
  },
  {
   "cell_type": "code",
   "execution_count": null,
   "metadata": {},
   "outputs": [],
   "source": [
    "import pandas as pd\n",
    "import numpy as np\n",
    "import matplotlib.pyplot as plt\n",
    "import seaborn as sns\n",
    "from scipy import stats\n",
    "from cleaning import *\n",
    "from sklearn.model_selection import train_test_split, GridSearchCV\n",
    "from sklearn.linear_model import LinearRegression\n",
    "from sklearn.metrics import mean_squared_error, r2_score, accuracy_score\n",
    "from sklearn.tree import DecisionTreeRegressor, plot_tree\n",
    "from sklearn.ensemble import RandomForestRegressor\n",
    "from customAccuracy import *\n",
    "import joblib"
   ]
  },
  {
   "cell_type": "markdown",
   "metadata": {},
   "source": [
    "### Importeren dataset"
   ]
  },
  {
   "cell_type": "code",
   "execution_count": null,
   "metadata": {},
   "outputs": [],
   "source": [
    "# Load the data\n",
    "df = load_data('sap_storing_data_hu_project.csv')"
   ]
  },
  {
   "cell_type": "markdown",
   "metadata": {},
   "source": [
    "# Data understanding"
   ]
  },
  {
   "cell_type": "code",
   "execution_count": null,
   "metadata": {},
   "outputs": [],
   "source": [
    "df.describe()"
   ]
  },
  {
   "cell_type": "markdown",
   "metadata": {},
   "source": [
    "# Data cleaning"
   ]
  },
  {
   "cell_type": "code",
   "execution_count": null,
   "metadata": {},
   "outputs": [],
   "source": [
    "# Define the columns to drop\n",
    "columns_to_drop = ['stm_sap_mon_meld_ddt', 'stm_mon_begin_ddt', 'stm_mon_toelichting_trdl', 'stm_oh_pg_mld',\n",
    "                   'stm_scenario_mon', 'stm_mon_nr_status_omschr', 'stm_mon_nr__statuscode', 'stm_mon_nr_status_wijzdd',\n",
    "                   'stm_aanntpl_ddt', 'stm_objectdl_code_gst', 'stm_objectdl_groep_gst', 'stm_progfh_in_ddt',\n",
    "                   'stm_progfh_in_invoer_ddt', 'stm_progfh_gw_ddt', 'stm_progfh_gw_lwd_ddt', 'stm_progfh_hz',\n",
    "                   'stm_veroorz_groep', 'stm_veroorz_code', 'stm_veroorz_tekst_kort', 'stm_effect', 'stm_afspr_aanvangddt',\n",
    "                   'stm_mon_eind_ddt', 'stm_mon_vhdsincident', 'stm_dir_betrok_tr', 'stm_aangelegd_dd', 'stm_aangelegd_tijd',\n",
    "                   'stm_mon_begindatum', 'stm_mon_begintijd', 'stm_progfh_gw_datum', 'stm_mon_eind_datum', 'stm_mon_eind_tijd',\n",
    "                   'stm_controle_dd', 'stm_akkoord_mon_toewijz', 'stm_status_sapnaarmon', 'stm_fact_jn', 'stm_akkoord_melding_jn',\n",
    "                   'stm_afsluit_ddt', 'stm_afsluit_dd', 'stm_afsluit_tijd', 'stm_rec_toegev_ddt', 'stm_hinderwaarde',\n",
    "                   'stm_actie', 'stm_standplaats', 'stm_status_gebr', 'stm_wbi_nummer', 'stm_projnr', 'stm_historie_toelichting',\n",
    "                   'stm_schade_verhaalb_jn', 'stm_schadenr', 'stm_schade_status_ga', 'stm_schade_statusdatum', 'stm_relatiervo_vorig',\n",
    "                   'stm_relatiervo_volgend', 'stm_relatiervo', 'stm_afspr_func_hersteldd', 'stm_afspr_func_hersteltijd',\n",
    "                   'stm_sorteerveld', 'stm_rapportage_maand', 'stm_rapportage_jaar', 'stm_x_bron_publ_dt', 'stm_x_bron_bestandsnaam',\n",
    "                   'stm_x_bron_arch_dt', 'stm_x_actueel_ind', 'stm_x_run_id', 'stm_x_bk', 'stm_x_start_sessie_dt', 'stm_x_vervallen_ind']\n",
    "\n",
    "# Drop the unnecessary columns\n",
    "df = drop_columns(df, columns_to_drop)\n",
    "\n",
    "# Clean the data (handle missing values, remove columns with excessive NaNs)\n",
    "df, avg_list, mode_list = clean_data(df)\n",
    "\n",
    "# Preprocess the data\n",
    "df = preprocess_data(df)\n",
    "\n",
    "# Save the cleaned data to a new CSV (optional)\n",
    "save_data(df, 'final_db_cleaned.csv')\n",
    "\n",
    "# Optionally display results\n",
    "print(\"Data cleaning and preprocessing complete.\")"
   ]
  },
  {
   "cell_type": "code",
   "execution_count": null,
   "metadata": {},
   "outputs": [],
   "source": [
    "# Converteer prognose invoer kolommen naar bruikbare datetime objecten.\n",
    "#df['stm_progfh_in_invoer_dat'] = pd.to_datetime(df['stm_sap_meld_ddt'].dt.date)\n",
    "#df['stm_progfh_in_invoer_tijd'] = pd.to_timedelta(df['stm_progfh_in_invoer_tijd'])\n",
    "\n",
    "# Maak een nieuwe kolom voor het tijdstip waarop de aannemer zijn prognose invult.\n",
    "#df['prognose_invoer_tijdstip'] = df['stm_progfh_in_invoer_dat'] + df['stm_progfh_in_invoer_tijd']\n",
    "\n",
    "# Maak een nieuwe kolom aan voor de targetvariabele, de tijd tussen het invullen van de prognose door de aannemer en functieherstel.\n",
    "#df['target'] = df['stm_fh_ddt'] - df['prognose_invoer_tijdstip']\n",
    "\n",
    "# Verwijder alle rijen met een negatieve target. In deze gevallen heeft de aannemer zijn prognose na het functieherstel ingevuld, en is de data niet te gebruiken om op te trainen.\n",
    "#df = df[df['target'] >= pd.Timedelta(0)]"
   ]
  },
  {
   "cell_type": "code",
   "execution_count": null,
   "metadata": {},
   "outputs": [],
   "source": [
    "# Testen\n",
    "#df[['stm_sap_meld_ddt', 'stm_fh_ddt', 'prognose_invoer_tijdstip', 'totale_functiehersteltijd', 'target', 'stm_aanntpl_tijd']].sample(10)"
   ]
  },
  {
   "cell_type": "code",
   "execution_count": null,
   "metadata": {},
   "outputs": [],
   "source": [
    "#testen 2\n",
    "df[['stm_fh_duur', 'stm_progfh_in_duur']].sample(10)"
   ]
  },
  {
   "cell_type": "code",
   "execution_count": null,
   "metadata": {},
   "outputs": [],
   "source": [
    "# Maak kolom voor de targetvariabele, de tijd tussen aannemer ter plaatse en functieherstel\n",
    "df['stm_aanntpl_tijd'] = pd.to_datetime(df['stm_aanntpl_tijd'], format=\"%H:%M:%S\", errors='coerce')\n",
    "\n",
    "# Records waar stm_aanntpl_tijd niet is ingevuld verwijderen (stm_aanntpl_tijd == 00:00:00 in deze gevallen)\n",
    "df = df[df['stm_aanntpl_tijd'] != pd.to_datetime(\"00:00:00\").time()]\n",
    "\n",
    "# Kolom targetvariabele aanmaken\n",
    "df['target2'] = df['stm_fh_ddt'] - df['stm_aanntpl_tijd']\n",
    "\n",
    "# Selecteer alleen de tijd van target2\n",
    "df['target2'] = df['target2'].dt.components.apply(lambda x: f\"{x.hours:02}:{x.minutes:02}:{x.seconds:02}\", axis=1)\n",
    "\n",
    "# Records met target van 0 minuten verwijderen (stm_aanntpl_tijd == stm_fh_ddt in deze gevallen)\n",
    "df = df[df['target2'] != pd.to_datetime(\"00:00:00\").time()]\n",
    "\n",
    "# Target converteren naar minuten zodat het in het model gebruikt kan worden\n",
    "# Convert `target2` to seconds\n",
    "df['target2'] = (df['target2'] / pd.Timedelta(minutes=1)).astype(int)\n",
    "\n",
    "\n",
    "df[['stm_sap_meld_ddt', 'stm_fh_ddt', 'totale_functiehersteltijd', 'stm_aanntpl_tijd', 'target2', 'stm_fh_duur']].sample(10)"
   ]
  },
  {
   "cell_type": "code",
   "execution_count": null,
   "metadata": {},
   "outputs": [],
   "source": [
    "# # Inspecteer de unieke waarden in de kolommen\n",
    "# print(\"Unieke waarden in stm_geo_mld:\")\n",
    "# print(df['stm_geo_mld'].unique())\n",
    "# print(\"Unieke waarden in stm_sap_meldtijd:\")\n",
    "# print(df['stm_sap_meldtijd'].unique())\n",
    "\n",
    "# # Omzetten van stm_geo_mld naar numeriek\n",
    "# df['stm_geo_mld'] = pd.to_numeric(df['stm_geo_mld'], errors='coerce')\n",
    "# nan_count_geo_mld = df['stm_geo_mld'].isnull().sum()\n",
    "# print(f\"Aantal NaN-waarden in stm_geo_mld: {nan_count_geo_mld}\")\n",
    "\n",
    "# # Vul NaN-waarden in stm_geo_mld met de gemiddelde waarde\n",
    "# df['stm_geo_mld'].fillna(df['stm_geo_mld'].mean(), inplace=True)\n",
    "\n",
    "# # Tijd omzetten naar seconden voor stm_sap_meldtijd\n",
    "# def time_to_seconds(t):\n",
    "#     # Controleer of de waarde niet leeg of NaN is\n",
    "#     if pd.notnull(t) and t != '':\n",
    "#         # Probeer de tijdstring te splitsen en om te zetten naar int\n",
    "#         try:\n",
    "#             h, m, s = map(int, t.split(':'))\n",
    "#             return h * 3600 + m * 60 + s\n",
    "#         except ValueError:\n",
    "#             return np.nan  # Retourneer NaN bij een fout\n",
    "#     return np.nan  # Retourneer NaN als de waarde leeg is\n",
    "\n",
    "# # Pas de functie toe op de kolom stm_sap_meldtijd\n",
    "# df['stm_sap_meldtijd'] = df['stm_sap_meldtijd'].apply(time_to_seconds)\n",
    "\n",
    "# # Controleer de types van de kolommen in de dataset\n",
    "# print(\"Kolomtypes na cleaning:\")\n",
    "# print(df.dtypes)"
   ]
  },
  {
   "cell_type": "markdown",
   "metadata": {},
   "source": [
    "# Baseline model"
   ]
  },
  {
   "cell_type": "code",
   "execution_count": null,
   "metadata": {},
   "outputs": [],
   "source": [
    "# Verwijder spaties aan het begin en einde van de waarden\n",
    "df['stm_progfh_in_duur_clean'] = df['stm_progfh_in_duur'].str.strip()\n",
    "# Vervang ongeldige waarden door NaN en converteer naar numeriek\n",
    "df['stm_progfh_in_duur_clean'] = pd.to_numeric(df['stm_progfh_in_duur_clean'], errors='coerce')\n",
    "# Vul NaN-waarden in met de gemiddelde waarde (zonder inplace=True)\n",
    "df['stm_progfh_in_duur_clean'] = df['stm_progfh_in_duur_clean'].fillna(df['stm_progfh_in_duur_clean'].mean())\n",
    "\n",
    "# Calculate the difference between total time and projected time by contractor as the baseline model\n",
    "df['difference'] = df['stm_fh_duur'] - df['stm_progfh_in_duur_clean']\n",
    "\n",
    "print(df['difference'].mean())"
   ]
  },
  {
   "cell_type": "code",
   "execution_count": null,
   "metadata": {},
   "outputs": [],
   "source": [
    "# Mean Absolute Error (MAE)\n",
    "mae = df['difference'].abs().mean()\n",
    "print(f'Mean Absolute Error (MAE): {mae}')\n"
   ]
  },
  {
   "cell_type": "code",
   "execution_count": null,
   "metadata": {},
   "outputs": [],
   "source": [
    "# Calculate the squared differences\n",
    "squared_diff = (df['difference'])**2\n",
    "\n",
    "# Calculate the RMSE\n",
    "rmse = np.sqrt(squared_diff.mean())\n",
    "\n",
    "print(rmse)\n"
   ]
  },
  {
   "cell_type": "code",
   "execution_count": null,
   "metadata": {},
   "outputs": [],
   "source": []
  },
  {
   "cell_type": "code",
   "execution_count": null,
   "metadata": {},
   "outputs": [],
   "source": [
    "# Onafhankelijke variabelen (X) en afhankelijke variabele (y)\n",
    "X = df[['stm_progfh_in_duur_clean', 'stm_oorz_code']]\n",
    "y = df['stm_fh_duur']\n",
    "\n",
    "# Splitsen van de dataset\n",
    "X_train, X_test, y_train, y_test = train_test_split(X, y, test_size=0.2, random_state=42)\n",
    "\n",
    "# Lineair regressiemodel aanmaken\n",
    "model = LinearRegression()\n",
    "\n",
    "# Train het model\n",
    "model.fit(X_train, y_train)\n",
    "\n",
    "# Maak voorspellingen op de testset\n",
    "y_pred = model.predict(X_test)\n",
    "\n",
    "# Bereken de evaluatiestatistieken\n",
    "mse = mean_squared_error(y_test, y_pred)\n",
    "r2 = r2_score(y_test, y_pred)\n",
    "\n",
    "print(f'Mean Squared Error: {mse}') \n",
    "print(f'R² waarde: {r2}') \n",
    "\n",
    "# Plot de voorspellingen\n",
    "plt.figure(figsize=(10, 6))\n",
    "sns.scatterplot(x=y_test, y=y_pred, color='blue', label='Voorspellingen')\n",
    "plt.plot([y.min(), y.max()], [y.min(), y.max()], color='red', linestyle='--', label='Ideale voorspelling')\n",
    "plt.title('Voorspellingen vs. Werkelijke Waarden')\n",
    "plt.xlabel('Werkelijke Waarden')\n",
    "plt.ylabel('Voorspellingen')\n",
    "plt.legend()\n",
    "plt.grid(True)\n",
    "plt.show()\n"
   ]
  },
  {
   "cell_type": "code",
   "execution_count": null,
   "metadata": {},
   "outputs": [],
   "source": [
    "# Onafhankelijke variabelen (X) en afhankelijke variabele (y)\n",
    "X = df[['stm_progfh_in_duur_clean', 'stm_oorz_code']]\n",
    "y = df['target2']\n",
    "\n",
    "# Splitsen van de dataset\n",
    "X_train, X_test, y_train, y_test = train_test_split(X, y, test_size=0.2, random_state=42)\n",
    "\n",
    "# Decision Tree Regressor aanmaken met beperkte diepte\n",
    "dt_model = DecisionTreeRegressor(max_depth=3, random_state=42)\n",
    "\n",
    "# Train het model\n",
    "dt_model.fit(X_train, y_train)\n",
    "\n",
    "# Maak voorspellingen op de testset\n",
    "y_pred_dt = dt_model.predict(X_test)\n",
    "\n",
    "# Bereken de evaluatiestatistieken\n",
    "mse_dt = mean_squared_error(y_test, y_pred_dt)\n",
    "r2_dt = r2_score(y_test, y_pred_dt)\n",
    "\n",
    "print(f'Mean Squared Error van Decision Tree: {mse_dt}') \n",
    "print(f'R² waarde van Decision Tree: {r2_dt}') \n",
    "\n",
    "# Visualiseer de Decision Tree\n",
    "plt.figure(figsize=(12, 8))\n",
    "plot_tree(dt_model, feature_names=X.columns, filled=True)\n",
    "plt.title('Decision Tree voor stm_fh_duur (max_depth=3)')\n",
    "plt.show()\n"
   ]
  },
  {
   "cell_type": "code",
   "execution_count": null,
   "metadata": {},
   "outputs": [],
   "source": [
    "# Onafhankelijke variabelen (X) en afhankelijke variabele (y)\n",
    "X = df[['stm_progfh_in_duur_clean', 'stm_oorz_code', 'stm_geo_mld', 'stm_prioriteit', 'stm_sap_meldtijd']]\n",
    "y = df['target2']\n",
    "\n",
    "# Splitsen van de dataset\n",
    "X_train, X_test, y_train, y_test = train_test_split(X, y, test_size=0.2, random_state=42)\n",
    "\n",
    "# Decision Tree Regressor aanmaken met beperkte diepte\n",
    "dt_model = DecisionTreeRegressor(max_depth=3, random_state=42)\n",
    "\n",
    "# Train het model\n",
    "dt_model.fit(X_train, y_train)\n",
    "\n",
    "# Maak voorspellingen op de testset\n",
    "y_pred_dt = dt_model.predict(X_test)\n",
    "\n",
    "# Bereken de evaluatiestatistieken\n",
    "mse_dt = mean_squared_error(y_test, y_pred_dt)\n",
    "r2_dt = r2_score(y_test, y_pred_dt)\n",
    "\n",
    "print(f'Mean Squared Error van Decision Tree: {mse_dt}') \n",
    "print(f'R² waarde van Decision Tree: {r2_dt}') \n",
    "\n",
    "# Gebruik de functie om de nauwkeurigheid met een specifieke tolerantie te berekenen\n",
    "tolerance_minutes = 10  # Stel de tolerantie in minuten in\n",
    "accuracy = custom_accuracy(y_test, y_pred_dt, tolerance_minutes)\n",
    "print(f'Nauwkeurigheid van Decision Tree binnen ±{tolerance_minutes} minuten: {accuracy:.2f}%')\n",
    "\n",
    "# Visualiseer de Decision Tree\n",
    "plt.figure(figsize=(12, 8))\n",
    "plot_tree(dt_model, feature_names=X.columns, filled=True)\n",
    "plt.title('Decision Tree voor stm_fh_duur (max_depth=3)')\n",
    "plt.show()\n"
   ]
  },
  {
   "cell_type": "code",
   "execution_count": null,
   "metadata": {},
   "outputs": [],
   "source": [
    "# Onafhankelijke variabelen (X) en afhankelijke variabele (y)\n",
    "X = df[['stm_progfh_in_duur_clean', 'stm_oorz_code', 'stm_geo_mld', 'stm_prioriteit', 'stm_sap_meldtijd']]\n",
    "y = df['target2']\n",
    "\n",
    "# Splitsen van de dataset\n",
    "X_train, X_test, y_train, y_test = train_test_split(X, y, test_size=0.2, random_state=42)\n",
    "\n",
    "# Instellen van de parameters voor Grid Search\n",
    "param_grid = {\n",
    "    'max_depth': [3, 5, 10, 20],  # Verschillende diepten van de bomen\n",
    "    'n_estimators': [100],  # We houden het aantal estimators constant op 100\n",
    "}\n",
    "\n",
    "# Grid Search aanmaken\n",
    "grid_search = GridSearchCV(RandomForestRegressor(random_state=42), param_grid, cv=5, scoring='neg_mean_squared_error')\n",
    "\n",
    "# Train het model met Grid Search\n",
    "grid_search.fit(X_train, y_train)\n",
    "\n",
    "# Beste model en parameters\n",
    "best_rf_model = grid_search.best_estimator_\n",
    "print(f'Beste hyperparameters: {grid_search.best_params_}')\n",
    "\n",
    "# Sla het beste model op\n",
    "joblib.dump(best_rf_model, 'beste_random_forest_model.pkl')\n",
    "\n",
    "# Maak voorspellingen op de testset met het beste model\n",
    "y_pred_rf = best_rf_model.predict(X_test)\n",
    "\n",
    "# Belangrijkste kenmerken van het model plotten\n",
    "importances = best_rf_model.feature_importances_\n",
    "indices = np.argsort(importances)[::-1]\n",
    "features = X.columns\n",
    "\n",
    "plt.figure(figsize=(10, 6))\n",
    "plt.title(\"Feature Importances in Random Forest Model\")\n",
    "plt.bar(range(X.shape[1]), importances[indices], align=\"center\")\n",
    "plt.xticks(range(X.shape[1]), [features[i] for i in indices], rotation=45)\n",
    "plt.xlabel(\"Features\")\n",
    "plt.ylabel(\"Belang\")\n",
    "plt.show()"
   ]
  },
  {
   "cell_type": "code",
   "execution_count": null,
   "metadata": {},
   "outputs": [],
   "source": [
    "# Limiteer de voorspellingen en werkelijke waarden tot maximaal 480 minuten\n",
    "max_duration = 480\n",
    "y_pred_binned = np.clip(np.round(y_pred_rf / 10) * 10, 0, max_duration)\n",
    "y_test_binned = np.clip(np.round(y_test / 10) * 10, 0, max_duration)\n",
    "\n",
    "# Bereken de nauwkeurigheid binnen deze limiet\n",
    "accuracy = accuracy_score(y_test_binned, y_pred_binned)\n",
    "print(f\"Nauwkeurigheid binnen 10-minuten-bins (max 8 uur): {accuracy:.2f}\")\n",
    "\n",
    "# Unieke bins en frequenties berekenen tot 480 minuten\n",
    "bins = np.unique(y_test_binned)\n",
    "bin_counts = [(y_test_binned == bin).sum() for bin in bins if bin <= max_duration]\n",
    "\n",
    "# Distributie van voorspellingen en werkelijke waarden plotten tot 480 minuten\n",
    "plt.figure(figsize=(12, 6))\n",
    "plt.hist(y_pred_binned, bins=np.arange(0, max_duration + 10, 10), alpha=0.5, label='Voorspellingen')\n",
    "plt.hist(y_test_binned, bins=np.arange(0, max_duration + 10, 10), alpha=0.5, label='Werkelijke waarden')\n",
    "plt.xlabel(\"Duur in minuten (gebundeld in 10-minuten-bins)\")\n",
    "plt.ylabel(\"Frequentie\")\n",
    "plt.legend()\n",
    "plt.title(\"Distributie van voorspellingen en werkelijke waarden in 10-minuten-bins (tot 8 uur)\")\n",
    "plt.show()"
   ]
  },
  {
   "cell_type": "code",
   "execution_count": null,
   "metadata": {},
   "outputs": [],
   "source": []
  }
 ],
 "metadata": {
  "kernelspec": {
   "display_name": "cm-env",
   "language": "python",
   "name": "python3"
  },
  "language_info": {
   "codemirror_mode": {
    "name": "ipython",
    "version": 3
   },
   "file_extension": ".py",
   "mimetype": "text/x-python",
   "name": "python",
   "nbconvert_exporter": "python",
   "pygments_lexer": "ipython3",
   "version": "3.12.4"
  }
 },
 "nbformat": 4,
 "nbformat_minor": 2
}
